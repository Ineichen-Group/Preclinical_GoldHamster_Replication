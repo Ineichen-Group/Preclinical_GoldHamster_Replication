{
 "cells": [
  {
   "cell_type": "code",
   "execution_count": 2,
   "id": "8ec00977-4131-4b2c-8521-39e47956edfc",
   "metadata": {},
   "outputs": [],
   "source": [
    "import pandas as pd"
   ]
  },
  {
   "cell_type": "markdown",
   "id": "0386fae9-792b-4315-9c77-0142ce68729e",
   "metadata": {},
   "source": [
    "# Combine all retrieved PMIDs"
   ]
  },
  {
   "cell_type": "code",
   "execution_count": 11,
   "id": "5f173e0d-7aa9-4b0d-926a-34a2722f5a13",
   "metadata": {},
   "outputs": [],
   "source": [
    "import os\n",
    "\n",
    "# Specify the folder path\n",
    "folder_path = 'data/pubmed_queries/results_pmids'\n",
    "\n",
    "# Initialize an empty list to store numbers\n",
    "pmids = []\n",
    "\n",
    "# Iterate over all files in the folder\n",
    "for filename in os.listdir(folder_path):\n",
    "    if filename.endswith('.txt'):  # Check if the file is a .txt file\n",
    "        file_path = os.path.join(folder_path, filename)\n",
    "        with open(file_path, 'r') as file:\n",
    "            # Read the content of the file and convert it to integers\n",
    "            for line in file:\n",
    "                stripped_line = line.strip()\n",
    "                if stripped_line.isdigit():  # Check if the line is a number\n",
    "                    pmids.append(int(stripped_line))\n",
    "\n"
   ]
  },
  {
   "cell_type": "code",
   "execution_count": 13,
   "id": "9a462f74-ffac-4c03-9dab-3e48d0d31d59",
   "metadata": {},
   "outputs": [],
   "source": [
    "unique_pmids = list(set(pmids))"
   ]
  },
  {
   "cell_type": "code",
   "execution_count": 15,
   "id": "dfdac995-2cc7-4552-88d3-e6be864c844c",
   "metadata": {},
   "outputs": [
    {
     "data": {
      "text/plain": [
       "21704285"
      ]
     },
     "execution_count": 15,
     "metadata": {},
     "output_type": "execute_result"
    }
   ],
   "source": [
    "len(unique_pmids)"
   ]
  },
  {
   "cell_type": "code",
   "execution_count": 22,
   "id": "54a502e6-3be5-4b4f-99a8-1b12b96e03a3",
   "metadata": {},
   "outputs": [],
   "source": [
    "file_path = 'data/cns_psychiatric_diseases_pmids_en.txt'\n",
    "\n",
    "# Initialize an empty list to store numbers\n",
    "old_query_pmids = []\n",
    "\n",
    "# Read the file\n",
    "with open(file_path, 'r') as file:\n",
    "    for line in file:\n",
    "        stripped_line = line.strip()\n",
    "        if stripped_line.isdigit():  # Check if the line is a number\n",
    "            old_query_pmids.append(int(stripped_line))"
   ]
  },
  {
   "cell_type": "code",
   "execution_count": 24,
   "id": "2d634850-81d0-47f7-a297-baf18e6803f6",
   "metadata": {},
   "outputs": [
    {
     "data": {
      "text/plain": [
       "2498422"
      ]
     },
     "execution_count": 24,
     "metadata": {},
     "output_type": "execute_result"
    }
   ],
   "source": [
    "old_query_pmids = list(set(old_query_pmids))\n",
    "len(old_query_pmids)"
   ]
  },
  {
   "cell_type": "code",
   "execution_count": 50,
   "id": "aab6b7aa-de42-40d6-b5c3-3c59e6840db8",
   "metadata": {},
   "outputs": [
    {
     "name": "stdout",
     "output_type": "stream",
     "text": [
      "Number of common elements: 2497867\n"
     ]
    }
   ],
   "source": [
    "old_query_set = set(old_query_pmids)\n",
    "pmids_set = set(unique_pmids)\n",
    "\n",
    "# Find common elements\n",
    "common_elements = old_query_set.intersection(pmids_set)\n",
    "\n",
    "# Count the common elements\n",
    "common_count = len(common_elements)\n",
    "\n",
    "print(f\"Number of common elements: {common_count}\")"
   ]
  },
  {
   "cell_type": "code",
   "execution_count": 62,
   "id": "58133009-422f-4c97-b419-ccf9c514fc6a",
   "metadata": {},
   "outputs": [
    {
     "data": {
      "text/plain": [
       "555"
      ]
     },
     "execution_count": 62,
     "metadata": {},
     "output_type": "execute_result"
    }
   ],
   "source": [
    "2498422 - 2497867"
   ]
  },
  {
   "cell_type": "code",
   "execution_count": 51,
   "id": "58a6200a-2379-4d63-bb26-09578aa7cad5",
   "metadata": {},
   "outputs": [
    {
     "data": {
      "text/plain": [
       "1"
      ]
     },
     "execution_count": 51,
     "metadata": {},
     "output_type": "execute_result"
    }
   ],
   "source": [
    "unique_pmids[0]"
   ]
  },
  {
   "cell_type": "code",
   "execution_count": 52,
   "id": "8b19a422-b7f8-4540-aef3-12a6ef488eb1",
   "metadata": {},
   "outputs": [
    {
     "data": {
      "text/plain": [
       "True"
      ]
     },
     "execution_count": 52,
     "metadata": {},
     "output_type": "execute_result"
    }
   ],
   "source": [
    "32706187 in unique_pmids"
   ]
  },
  {
   "cell_type": "code",
   "execution_count": 58,
   "id": "a737bc87-96f3-4c93-a576-0394020f393c",
   "metadata": {},
   "outputs": [],
   "source": [
    "all_pmids_to_fetch = old_query_set.union(pmiods_set)"
   ]
  },
  {
   "cell_type": "code",
   "execution_count": 60,
   "id": "6f28015b-ae31-40bf-8215-f505bcd99658",
   "metadata": {},
   "outputs": [
    {
     "data": {
      "text/plain": [
       "21704840"
      ]
     },
     "execution_count": 60,
     "metadata": {},
     "output_type": "execute_result"
    }
   ],
   "source": [
    "len(all_pmids_to_fetch)"
   ]
  },
  {
   "cell_type": "code",
   "execution_count": 66,
   "id": "d3ff843e-f65e-4a89-94ba-7cf9af052818",
   "metadata": {},
   "outputs": [],
   "source": [
    "output_file_path = f'data/pubmed_queries/union_all_queries_pmids_{len(all_pmids_to_fetch)}.txt'\n",
    "\n",
    "# Write the elements to the file\n",
    "with open(output_file_path, 'w') as file:\n",
    "    for pmid in all_pmids_to_fetch:\n",
    "        file.write(f\"{pmid}\\n\")"
   ]
  },
  {
   "cell_type": "code",
   "execution_count": null,
   "id": "968e60ef-918d-4bf4-bb9f-0435b6b80db1",
   "metadata": {},
   "outputs": [],
   "source": []
  }
 ],
 "metadata": {
  "kernelspec": {
   "display_name": "preclinical",
   "language": "python",
   "name": "preclinical"
  },
  "language_info": {
   "codemirror_mode": {
    "name": "ipython",
    "version": 3
   },
   "file_extension": ".py",
   "mimetype": "text/x-python",
   "name": "python",
   "nbconvert_exporter": "python",
   "pygments_lexer": "ipython3",
   "version": "3.12.5"
  }
 },
 "nbformat": 4,
 "nbformat_minor": 5
}
