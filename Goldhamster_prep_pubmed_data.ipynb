{
 "cells": [
  {
   "cell_type": "code",
   "execution_count": 2,
   "id": "1142d415-1f43-4bd8-aebb-804ada35b160",
   "metadata": {},
   "outputs": [],
   "source": [
    "import os\n"
   ]
  },
  {
   "cell_type": "code",
   "execution_count": 6,
   "id": "9161559c-6192-44e4-94e9-9d1a49b82c6d",
   "metadata": {},
   "outputs": [],
   "source": [
    "# Function to extract PMIDs from a folder of text files\n",
    "def extract_pmids_from_folder(folder_path):\n",
    "    pmids = []\n",
    "\n",
    "    # Loop through all files in the folder\n",
    "    for file_name in os.listdir(folder_path):\n",
    "        if file_name.endswith(\".txt\"):\n",
    "            file_path = os.path.join(folder_path, file_name)\n",
    "            with open(file_path, 'r') as file:\n",
    "                for line in file:\n",
    "                    # Split the line by tab and extract the first column (PMID)\n",
    "                    pmid = line.split('\\t')[0]\n",
    "                    pmids.append(pmid)\n",
    "    \n",
    "    return pmids\n",
    "\n",
    "# Example usage:\n",
    "folder_path = \"corpus_annotations\"  # Replace with your folder path\n",
    "pmids = extract_pmids_from_folder(folder_path)"
   ]
  },
  {
   "cell_type": "code",
   "execution_count": 12,
   "id": "a0ae216b-0f40-4f56-ba97-c61030928111",
   "metadata": {},
   "outputs": [
    {
     "data": {
      "text/plain": [
       "(14360, 1436)"
      ]
     },
     "execution_count": 12,
     "metadata": {},
     "output_type": "execute_result"
    }
   ],
   "source": [
    "len(pmids)"
   ]
  },
  {
   "cell_type": "code",
   "execution_count": 14,
   "id": "522ac06e-749e-4486-92e0-f33e90b8c886",
   "metadata": {},
   "outputs": [],
   "source": [
    "unique_pmids = list(set(pmids))"
   ]
  },
  {
   "cell_type": "code",
   "execution_count": 16,
   "id": "d71f8c31-f441-404b-bdd6-8024b61294d7",
   "metadata": {},
   "outputs": [
    {
     "data": {
      "text/plain": [
       "1436"
      ]
     },
     "execution_count": 16,
     "metadata": {},
     "output_type": "execute_result"
    }
   ],
   "source": [
    "len(unique_pmids)"
   ]
  },
  {
   "cell_type": "code",
   "execution_count": 20,
   "id": "04c15b1a-edef-4b83-a42d-60ac4f922eb4",
   "metadata": {},
   "outputs": [],
   "source": [
    "def save_pmids_to_file(pmids, output_file):\n",
    "    with open(output_file, 'w') as file:\n",
    "        for pmid in pmids:\n",
    "            file.write(pmid + '\\n')\n",
    "\n",
    "save_pmids_to_file(unique_pmids, \"pubmed_docs/list_pmids_to_fetch.txt\")"
   ]
  },
  {
   "cell_type": "markdown",
   "id": "54e7bb70-e0ac-41c8-921b-c6a91e47358e",
   "metadata": {},
   "source": [
    "### then fetch the abstracts from terminal"
   ]
  },
  {
   "cell_type": "raw",
   "id": "9b6867e6-b766-4661-a9f5-9f23f0bcc148",
   "metadata": {},
   "source": [
    "id_list=$(paste -sd, \"./list_pmids_to_fetch.txt\")\n",
    "\n",
    "\n",
    "efetch -db pubmed -id $id_list -format xml | \\\n",
    "xtract -pattern PubmedArticle -def \"N/A\" -element MedlineCitation/PMID AbstractText -tab '^' | \\\n",
    "while IFS=\"^\" read -r line; do\n",
    "    # Split the line by tab\n",
    "    pmid_cleaned=$(echo \"$line\" | cut -f1)\n",
    "    abstract=$(echo \"$line\" | cut -f2-)\n",
    "    \n",
    "    # Remove any trailing newline characters from pmid_cleaned\n",
    "    pmid_cleaned=$(echo \"$pmid_cleaned\" | tr -d '\\r\\n')\n",
    "\n",
    "    # Create the directory if it doesn't exist\n",
    "    mkdir -p \"./pubmed\"\n",
    "\n",
    "    # Write the abstract to a file named after the cleaned pmid\n",
    "    echo \"$abstract\" > \"./pubmed/${pmid_cleaned}.txt\"\n",
    "done\n"
   ]
  },
  {
   "cell_type": "code",
   "execution_count": null,
   "id": "68b3a3f6-19ee-49bb-ac31-824fc40a9e85",
   "metadata": {},
   "outputs": [],
   "source": []
  }
 ],
 "metadata": {
  "kernelspec": {
   "display_name": "preclinical",
   "language": "python",
   "name": "preclinical"
  },
  "language_info": {
   "codemirror_mode": {
    "name": "ipython",
    "version": 3
   },
   "file_extension": ".py",
   "mimetype": "text/x-python",
   "name": "python",
   "nbconvert_exporter": "python",
   "pygments_lexer": "ipython3",
   "version": "3.12.5"
  }
 },
 "nbformat": 4,
 "nbformat_minor": 5
}
